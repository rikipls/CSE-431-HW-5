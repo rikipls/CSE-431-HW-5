{
 "cells": [
  {
   "cell_type": "markdown",
   "metadata": {},
   "source": [
    "# Question title"
   ]
  },
  {
   "cell_type": "markdown",
   "metadata": {},
   "source": [
    "Hypothesis: Briefly describe what results you believe you will find.  Write your hypothesis before you start conducting experiments as a way of acknowledging your initial expectations.  Note: you will not lose points for your hypothesis being incorrect; in fact, getting a result different from your hypothesis will often be more exciting and more of a learning experience.\n",
    "\n",
    "Methods: Describe step-by-step the experiments that you conduct. Provide the source code that you use, and details about which compiler you use, how you compile it (e.g., optimization flags), and the range of inputs that you feed into your program.  You may provide a link to a repository rather than copying the code into your file.  Your methods should accurately reflect how you actually generated your data such that, someone reading them can replicate your experiment.\n",
    "\n",
    "Results: Present the data that your experiments produced .  In most cases this will be a graph (as described in each question) and a brief explanation to make sure the reader understands the data in that graph. Graphs should be clearly labeled (axis labels, etc)!\n",
    "\n",
    "Discussion: Provide a brief discussion of your data.  Did anything about it surprise you?  Were there any unexpected challenges in collecting the data?  This section is where you will answer specific questions posed in each of these problems.\n",
    "\n",
    "Conclusions: Present a concise take-away for this experiment.  For example, “Under the conditions tested, data structure A produces a faster algorithm for n < 1000, while data structure B is faster for n > 1500.  For n between 1000 and 1500 the two data structures are indistinguishable.”"
   ]
  },
  {
   "cell_type": "markdown",
   "metadata": {},
   "source": []
  },
  {
   "cell_type": "markdown",
   "metadata": {},
   "source": []
  }
 ],
 "metadata": {
  "language_info": {
   "name": "python"
  }
 },
 "nbformat": 4,
 "nbformat_minor": 2
}
